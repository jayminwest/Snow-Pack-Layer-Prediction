{
 "cells": [
  {
   "attachments": {},
   "cell_type": "markdown",
   "metadata": {},
   "source": [
    "# Avalanche Risk Prediction\n",
    "### Jaymin West\n",
    "### Spring, 2023\n",
    "\n",
    "The orginal idea for this project was to create a model that couuld predict the layers within a snow pack in a given region. Initially, I thought that I would be able to use weather data to achive this goal. However, it became evident that the data I was hoping to use was too sparse and what I thought was a datascience problem was actually a meteorology problem. As such, I had to adjust the scope of this project to focusing more on predicting the overall avalanche risk in a given area. "
   ]
  },
  {
   "attachments": {},
   "cell_type": "markdown",
   "metadata": {},
   "source": [
    "### Step 1: Gathering The Data\n",
    "\n",
    "The area I chose to use was that covered by the Northwest Avalanche Center (NWAC). NWAC covers the western half of Washington and into Oregon. NWAC is a small part of Avalanche.org who host the websites for dozens of avalnche centers around the country. This is important as I built a webscraper to scrape all the archival data from NWAC's site and that webscraper could be expaned to work on all of the other avalanche centers. The code I wrote for the webscraper can be found in the webscraper.py file. It goes through a table of dates and gets the corresponding risk, area, and forecast for each date. The forecast comes in three sections, all of which go into varying levels of detail about the observed conditions and risks in the area"
   ]
  },
  {
   "cell_type": "code",
   "execution_count": null,
   "metadata": {},
   "outputs": [],
   "source": [
    "# import webscraper\n",
    "import utils \n",
    "import webscraper\n",
    "\n",
    "# Getting the avalanche data at Stevens Pass for the current season: \n",
    "# ws = webscraper.Webscraper(\"Stevens Pass\")\n",
    "# ws.open_archive_page()\n",
    "# reports_data = ws.scrape_daily_reports()\n",
    "# ws.to_csv(reports_data)\n",
    "\n",
    "data = utils.clean_raw_webscraper_data(\"output_data/Stevens_Pass_Current_Season_reports_data.csv\")\n",
    "data = utils.add_weather_to_reports(data)\n",
    "data.to_csv(\"input_data/Stevens_Pass_Current_Season_reports_data.csv\", index=False)"
   ]
  },
  {
   "attachments": {},
   "cell_type": "markdown",
   "metadata": {},
   "source": [
    "### Step 2: Processing The Data\n",
    "\n",
    "I was not expecting this to be one of the more time consuming section of the project but it was. It took me a long time trying to figure out how to best use my text data to predict the avalanche risk in the future. I figured I would have to do a lot of preprocessing to get my text into a state that would be useful for the computer. I took all of the text data, removed the stop words (including some custom stop words), lemmatized and lowercased everything, then combined it all into one column. All of these steps can be seen in the code below which is taken from my utils.py file."
   ]
  },
  {
   "cell_type": "code",
   "execution_count": 20,
   "metadata": {},
   "outputs": [],
   "source": [
    "from nltk.corpus import stopwords\n",
    "from nltk.stem import WordNetLemmatizer\n",
    "from nltk.tokenize import word_tokenize\n",
    "from gensim import corpora\n",
    "from gensim.utils import simple_preprocess\n",
    "import pandas as pd\n",
    "\n",
    "def preprocess_text_column(text):\n",
    "    \"\"\"\n",
    "    Preprocesses a text column for LDA analysis.\n",
    "    \"\"\"\n",
    "    stop_words = set(stopwords.words('english'))\n",
    "    # adding days of the week to stop words\n",
    "    stop_words.update(['monday', 'tuesday', 'wednesday', 'thursday', 'friday', 'saturday', 'sunday'])\n",
    "    # adding months to stop words\n",
    "    stop_words.update(['january', 'february', 'march', 'april', 'may', 'june', 'july', 'august',\n",
    "                       'september', 'october', 'november', 'december'])\n",
    "    lemmatizer = WordNetLemmatizer()\n",
    "    \n",
    "    try: \n",
    "        words = word_tokenize(text.lower())\n",
    "        words = [w for w in words if not w in stop_words]\n",
    "        words = [lemmatizer.lemmatize(w) for w in words]\n",
    "        words = simple_preprocess(str(words), deacc=True)\n",
    "\n",
    "        return ' '.join(words)\n",
    "    except:\n",
    "        return text\n",
    "    \n",
    "def clean_raw_webscraper_data(fname):\n",
    "    \"\"\"\n",
    "    Takes in a file of raw avalanche reports data from the webscraper, and returns a dataframe of the cleaned\n",
    "    \"\"\"\n",
    "    # Reading in the CSV file:\n",
    "    all_data = pd.read_csv(fname)\n",
    "    # Adding Column Names:\n",
    "    all_data.columns = ['date', 'zone', 'overall_risk', 'above_treeline_risk', 'near_treeline_risk', 'below_treeline_risk', 'bottom_line_text', 'problem_type_text', 'forecast_discussion_text']\n",
    "    # Adding a column for the combined text of all 3 text columns:\n",
    "    all_data['combined_text'] = all_data['bottom_line_text'] + all_data['problem_type_text'] + all_data['forecast_discussion_text']\n",
    "    # Converting date column to datetime:\n",
    "    all_data['date'] = pd.to_datetime(all_data['date'])\n",
    "    \n",
    "    # Processing all text columns:\n",
    "    text_coloumns = ['bottom_line_text', 'problem_type_text', 'forecast_discussion_text', 'combined_text']\n",
    "    \n",
    "    for column in text_coloumns:\n",
    "        all_data[column] = all_data[column].apply(preprocess_text_column)\n",
    "\n",
    "    all_data['zone'] = all_data['zone'].str.lower()\n",
    "    all_data['overall_risk'] = all_data['overall_risk'].str.lower()\n",
    "\n",
    "    # Mapping risk ratings to numbers:\n",
    "    rating_mapping = {\n",
    "        \"extreme\": 5.0,\n",
    "        \"high\": 4.0,\n",
    "        \"considerable\": 3.0,\n",
    "        \"moderate\": 2.0,\n",
    "        \"low\": 1.0,\n",
    "        \"no rating\": 0.0\n",
    "    }\n",
    "\n",
    "    all_data['overall_risk'] = all_data['overall_risk'].map(rating_mapping)\n",
    "\n",
    "    return all_data"
   ]
  },
  {
   "attachments": {},
   "cell_type": "markdown",
   "metadata": {},
   "source": [
    "### Step 3: Making Predictions and Using LLM's\n",
    "\n",
    "My intiail plan for this project involved using an LSTM or some similar model to predict the avalanche risk for the next week. While I was able to do this, the results were lack luster and the project felt incomplete. I decided to switch gears and use GPT to make predictions based on the historical text data. This turned out to be a much more relevant and interesting outcome. "
   ]
  },
  {
   "cell_type": "code",
   "execution_count": 21,
   "metadata": {},
   "outputs": [],
   "source": [
    "import keys\n",
    "from langchain import VectorDBQA, OpenAI\n",
    "from langchain.embeddings.openai import OpenAIEmbeddings\n",
    "from langchain.text_splitter import CharacterTextSplitter\n",
    "from langchain.vectorstores import Pinecone\n",
    "from langchain.document_loaders import DataFrameLoader\n",
    "import pandas as pd\n",
    "import pinecone\n",
    "\n",
    "api_key = keys.OPENAI_KEY\n",
    "\n",
    "# Loading the data:\n",
    "all_data = pd.read_csv('output_data/all_zones_all_data.csv')\n",
    "all_data = all_data.drop(columns=['bottom_line_text', 'problem_type_text', 'forecast_discussion_text'])\n",
    "all_data = all_data.dropna()"
   ]
  },
  {
   "cell_type": "code",
   "execution_count": 22,
   "metadata": {},
   "outputs": [],
   "source": [
    "# Loading the data:\n",
    "loader = DataFrameLoader(all_data, 'combined_text')\n",
    "documents = loader.load()\n",
    "\n",
    "# Splitting the data:\n",
    "text_splitter = CharacterTextSplitter(chunk_size=100, chunk_overlap=10)\n",
    "docs = text_splitter.split_documents(documents)\n",
    "\n",
    "# Getting the embeddings:\n",
    "embeddings = OpenAIEmbeddings(openai_api_key=api_key)\n",
    "\n",
    "# Using Pinecone as the vectorstore:\n",
    "pinecone.init(api_key=keys.PINECONE_KEY, environment='us-west1-gcp-free')\n",
    "index_name = \"avalanche-reports\"\n",
    "docsearch = Pinecone.from_documents(docs, embeddings, index_name=index_name)"
   ]
  },
  {
   "cell_type": "code",
   "execution_count": 23,
   "metadata": {},
   "outputs": [
    {
     "name": "stdout",
     "output_type": "stream",
     "text": [
      "[Document(page_content=\"Stay tuned to the changing weather, and be on the lookout for small wind slabs to develop in steep and exposed areas above treeline. Most surfaces are a mix between supportable sun crusts and wind affected snow. Expect danger to rise quickly Friday night into Saturday as a winter storm arrives.Increasing winds and snowfall during the day should begin to create small, scattered wind slabs. You could trigger a small slab, but you could also travel on most terrain safely. Slabs could grow in size, sensitivity and distribution by the evening as a cold front makes its way in. Especially look for small slabs to develop above treeline, on steep slopes below cornices, and near rocks and cliffs.Friday should be a transition day, as the next front makes its way into the area. Expect danger to quickly rise overnight Friday into Saturday as a winter storm affects the area with rapidly accumulating snowfall and strong winds.Most snow surfaces are a mixed bag of sun crusts and at higher elevations, wind affected snow surfaces. If you're lucky, you could still find some soft settled powder on sheltered north facing terrain. Earlier in the week, easterly winds affected many slopes and formed slabs in unusual locations. On Monday, NWAC forecasters investigated Sunday's skier-triggered avalanche on Mt Lichtenburg. You can read the original observation HERE and see video below. The skier was the second skier on the slope, and it released above him, catching himself and one other skier parked beneath him. They were partially buried but uninjured. Some weak, faceted snow is likely the layer involved in this avalanche. The distribution and extent of this problem is most likely isolated, but it's worth a quick dig to identify any hard over soft snow layering before committing to consequential terrain.\", metadata={'above_treeline_risk': 1.0, 'below_treeline_risk': 1.0, 'date': datetime.date(2023, 3, 30), 'near_treeline_risk': 1.0, 'overall_risk': 'LOW', 'zone': 'Stevens Pass'}), Document(page_content=\"Stay tuned to the changing weather, and be on the lookout for small wind slabs to develop in steep and exposed areas above treeline. Most surfaces are a mix between supportable sun crusts and wind affected snow. Expect danger to rise quickly Friday night into Saturday as a winter storm arrives.Increasing winds and snowfall during the day should begin to create small, scattered wind slabs. You could trigger a small slab, but you could also travel on most terrain safely. Slabs could grow in size, sensitivity and distribution by the evening as a cold front makes its way in. Especially look for small slabs to develop above treeline, on steep slopes below cornices, and near rocks and cliffs.Friday should be a transition day, as the next front makes its way into the area. Expect danger to quickly rise overnight Friday into Saturday as a winter storm affects the area with rapidly accumulating snowfall and strong winds.Most snow surfaces are a mixed bag of sun crusts and at higher elevations, wind affected snow surfaces. If you're lucky, you could still find some soft settled powder on sheltered north facing terrain. Earlier in the week, easterly winds affected many slopes and formed slabs in unusual locations. On Monday, NWAC forecasters investigated Sunday's skier-triggered avalanche on Mt Lichtenburg. You can read the original observation HERE and see video below. The skier was the second skier on the slope, and it released above him, catching himself and one other skier parked beneath him. They were partially buried but uninjured. Some weak, faceted snow is likely the layer involved in this avalanche. The distribution and extent of this problem is most likely isolated, but it's worth a quick dig to identify any hard over soft snow layering before committing to consequential terrain.\", metadata={'above_treeline_risk': 1.0, 'below_treeline_risk': 1.0, 'date': datetime.date(2023, 3, 30), 'near_treeline_risk': 1.0, 'overall_risk': 'LOW', 'zone': 'Stevens Pass'}), Document(page_content='winter like condition expected return west south weekend strong wind cold snow thinking dry avalanche problem mountain likely trigger avalanche wind drifted snow lookout pocket steer around wind speed night strong enough easily blow around newly fallen snow create wind slab steer around look unstable pocket snow develop leeward side ridgeline convex feature near rocky terrain confined chute base cliff travel visual clue actively blowing snow textured snow surface newly forming cornice fresh drift behind object help identify terrain wind slab developed notice snow feel firm hollow look smooth pillow like found wind affected terrain avoid afternoon wind already ripping around west south nwac station camp muir recorded multiple hour row gust mph station gust anywhere mph expect mph wind norm speed capable moving snow throughout forecast period question becomes much snow fall available transport potent storm earlier week significant wind dropped multiple foot snow around west south storm forecasting high hazard focused around dry avalanche first time week shortly storm duration temperature soared producing wet avalanche activity line condition limiting amount new snow available transport general cooling trend head weekend mean wet snow surface transition new melt freeze crust snow weekend expected bond fairly well initially crust majority avalanche concern isolated newly fallen snow however springtime come lot uncertainty around weather play take much sun time year tip scale start producing natural avalanche period sunshine throughout day look fresh rollerballs snow shedding tree rock sign small loose avalanche follow depending duration sun could dry wet run crust isolated area large trigger could conceivably produce avalanche early crust exception rather rule weekend', metadata={'above_treeline_risk': 2.0, 'below_treeline_risk': 1.0, 'date': datetime.date(2022, 4, 8), 'near_treeline_risk': 2.0, 'overall_risk': 2.0, 'prcp': 5.6, 'pres': 1022.3, 'tavg': 9.7, 'tmax': 14.6, 'tmin': 5.0, 'tsun': 0.0, 'wdir': 234.5, 'zone': 'west slopes south'}), Document(page_content='winter like condition expected return west south weekend strong wind cold snow thinking dry avalanche problem mountain likely trigger avalanche wind drifted snow lookout pocket steer around wind speed night strong enough easily blow around newly fallen snow create wind slab steer around look unstable pocket snow develop leeward side ridgeline convex feature near rocky terrain confined chute base cliff travel visual clue actively blowing snow textured snow surface newly forming cornice fresh drift behind object help identify terrain wind slab developed notice snow feel firm hollow look smooth pillow like found wind affected terrain avoid afternoon wind already ripping around west south nwac station camp muir recorded multiple hour row gust mph station gust anywhere mph expect mph wind norm speed capable moving snow throughout forecast period question becomes much snow fall available transport potent storm earlier week significant wind dropped multiple foot snow around west south storm forecasting high hazard focused around dry avalanche first time week shortly storm duration temperature soared producing wet avalanche activity line condition limiting amount new snow available transport general cooling trend head weekend mean wet snow surface transition new melt freeze crust snow weekend expected bond fairly well initially crust majority avalanche concern isolated newly fallen snow however springtime come lot uncertainty around weather play take much sun time year tip scale start producing natural avalanche period sunshine throughout day look fresh rollerballs snow shedding tree rock sign small loose avalanche follow depending duration sun could dry wet run crust isolated area large trigger could conceivably produce avalanche early crust exception rather rule weekend', metadata={'above_treeline_risk': 2.0, 'below_treeline_risk': 1.0, 'date': datetime.date(2022, 4, 8), 'near_treeline_risk': 2.0, 'overall_risk': 2.0, 'prcp': 5.6, 'pres': 1022.3, 'tavg': 9.7, 'tmax': 14.6, 'tmin': 5.0, 'tsun': 0.0, 'wdir': 234.5, 'zone': 'west slopes south'})]\n"
     ]
    }
   ],
   "source": [
    "query = \"Cold front from the north will bring snow and wind to the area.\"\n",
    "results = docsearch.similarity_search(query)\n",
    "print(results)"
   ]
  },
  {
   "attachments": {},
   "cell_type": "markdown",
   "metadata": {},
   "source": [
    "#### Implementing Langchain and Loading GPT with Custom Data:"
   ]
  },
  {
   "cell_type": "code",
   "execution_count": 24,
   "metadata": {},
   "outputs": [
    {
     "name": "stderr",
     "output_type": "stream",
     "text": [
      "UserWarning: `VectorDBQA` is deprecated - please use `from langchain.chains import RetrievalQA`\n"
     ]
    }
   ],
   "source": [
    "llm = OpenAI(openai_api_key=api_key)\n",
    "qa = VectorDBQA.from_chain_type(\n",
    "    llm=llm,\n",
    "    chain_type=\"stuff\",\n",
    "    vectorstore=docsearch,\n",
    "    return_source_documents=False\n",
    ")\n",
    "query = \"It is supposed to be sunny and warm tomoorrow. Will there be avalanches\"\n",
    "results = qa.run(query)\n",
    "print(results)"
   ]
  }
 ],
 "metadata": {
  "kernelspec": {
   "display_name": ".venv",
   "language": "python",
   "name": "python3"
  },
  "language_info": {
   "codemirror_mode": {
    "name": "ipython",
    "version": 3
   },
   "file_extension": ".py",
   "mimetype": "text/x-python",
   "name": "python",
   "nbconvert_exporter": "python",
   "pygments_lexer": "ipython3",
   "version": "3.10.6"
  },
  "orig_nbformat": 4
 },
 "nbformat": 4,
 "nbformat_minor": 2
}
