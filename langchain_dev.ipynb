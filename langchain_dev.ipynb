{
 "cells": [
  {
   "attachments": {},
   "cell_type": "markdown",
   "metadata": {},
   "source": [
    "# Using Langchain"
   ]
  },
  {
   "cell_type": "code",
   "execution_count": 1,
   "metadata": {},
   "outputs": [],
   "source": [
    "import pgvector\n",
    "import os\n",
    "import keys\n",
    "import getpass\n",
    "from langchain.embeddings.openai import OpenAIEmbeddings\n",
    "from langchain.text_splitter import CharacterTextSplitter\n",
    "from langchain.vectorstores import Qdrant\n",
    "from langchain.document_loaders import DataFrameLoader\n",
    "from langchain.docstore.document import Document\n",
    "import pandas as pd\n",
    "import psycopg2"
   ]
  },
  {
   "cell_type": "code",
   "execution_count": null,
   "metadata": {},
   "outputs": [],
   "source": [
    "api_key = keys.OPENAI_KEY"
   ]
  },
  {
   "cell_type": "code",
   "execution_count": null,
   "metadata": {},
   "outputs": [],
   "source": [
    "# Loading the data:\n",
    "all_data = pd.read_csv('output_data/incomplete_All_Zones_Current_Season_reports_data.csv')\n",
    "all_data.columns = columns=['date', 'zone', 'overall_risk', 'above_treeline_risk', 'near_treeline_risk', 'below_treeline_risk', 'bottom_line_text', 'problem_type_text', 'forecast_discussion_text']\n",
    "all_data['combined_text'] = all_data['bottom_line_text'] + all_data['problem_type_text'] + all_data['forecast_discussion_text']"
   ]
  },
  {
   "attachments": {},
   "cell_type": "markdown",
   "metadata": {},
   "source": [
    "### Loading the text data from a pandas dataframe:"
   ]
  },
  {
   "cell_type": "code",
   "execution_count": null,
   "metadata": {},
   "outputs": [],
   "source": [
    "# Loading the data:\n",
    "loader = DataFrameLoader(all_data, 'combined_text')\n",
    "documents = loader.load()\n",
    "# Splitting the data:\n",
    "text_splitter = CharacterTextSplitter(chunk_size=100, chunk_overlap=10)\n",
    "docs = text_splitter.split_documents(documents)\n",
    "# Getting the embeddings:\n",
    "embeddings = OpenAIEmbeddings(openai_api_key=api_key)"
   ]
  },
  {
   "attachments": {},
   "cell_type": "markdown",
   "metadata": {},
   "source": [
    "### Using QDrant (Vector DB)"
   ]
  },
  {
   "cell_type": "code",
   "execution_count": null,
   "metadata": {},
   "outputs": [],
   "source": [
    "qdrant = Qdrant.from_documents(\n",
    "    docs, embeddings,\n",
    "    path=\"qdrant_data\",\n",
    "    collection_name=\"nwac_qdrant\",\n",
    ")"
   ]
  },
  {
   "cell_type": "code",
   "execution_count": null,
   "metadata": {},
   "outputs": [],
   "source": [
    "from langchain import VectorDBQA, OpenAI\n",
    "\n",
    "llm = OpenAI(openai_api_key=api_key)\n",
    "qa = VectorDBQA.from_chain_type(\n",
    "    llm=llm,\n",
    "    chain_type=\"stuff\",\n",
    "    vectorstore=qdrant,\n",
    "    return_source_documents=False\n",
    ")"
   ]
  },
  {
   "cell_type": "code",
   "execution_count": null,
   "metadata": {},
   "outputs": [
    {
     "name": "stdout",
     "output_type": "stream",
     "text": [
      " High Danger. Overnight strong wind and heavy snow will make it easy to trigger large avalanches near and above treeline. Avoid being on or under slopes over 35 degrees where the wind has drifted recent snow into deeper slabs. If the new snow slides easily in snowpack tests or recent avalanches at any elevation, stick to lower-angle slopes.\n"
     ]
    }
   ],
   "source": [
    "query = \"What conditions cause the highest avalanche rating on Steven's Pass?\"\n",
    "results = qa.run(query)\n",
    "print(results)"
   ]
  },
  {
   "cell_type": "code",
   "execution_count": 2,
   "metadata": {},
   "outputs": [
    {
     "ename": "NameError",
     "evalue": "name 'docs' is not defined",
     "output_type": "error",
     "traceback": [
      "\u001b[0;31m---------------------------------------------------------------------------\u001b[0m",
      "\u001b[0;31mNameError\u001b[0m                                 Traceback (most recent call last)",
      "Cell \u001b[0;32mIn[2], line 4\u001b[0m\n\u001b[1;32m      1\u001b[0m q_url \u001b[39m=\u001b[39m \u001b[39m'\u001b[39m\u001b[39mhttps://6c3c7456-5df9-4a62-aa7a-961212c53a01.us-east-1-0.aws.cloud.qdrant.io\u001b[39m\u001b[39m'\u001b[39m\n\u001b[1;32m      2\u001b[0m qdrant_key \u001b[39m=\u001b[39m keys\u001b[39m.\u001b[39mQDRANT_KEY\n\u001b[1;32m      3\u001b[0m qdrant \u001b[39m=\u001b[39m Qdrant\u001b[39m.\u001b[39mfrom_documents(\n\u001b[0;32m----> 4\u001b[0m     docs, embeddings, \n\u001b[1;32m      5\u001b[0m     url\u001b[39m=\u001b[39mq_url, api_key\u001b[39m=\u001b[39mqdrant_key, \n\u001b[1;32m      6\u001b[0m     collection_name\u001b[39m=\u001b[39m\u001b[39m\"\u001b[39m\u001b[39mnwac_current_season_reports\u001b[39m\u001b[39m\"\u001b[39m,\n\u001b[1;32m      7\u001b[0m )\n",
      "\u001b[0;31mNameError\u001b[0m: name 'docs' is not defined"
     ]
    }
   ],
   "source": [
    "q_url = 'https://6c3c7456-5df9-4a62-aa7a-961212c53a01.us-east-1-0.aws.cloud.qdrant.io'\n",
    "qdrant_key = keys.QDRANT_KEY\n",
    "qdrant = Qdrant.from_documents(\n",
    "    docs, embeddings, \n",
    "    url=q_url, api_key=qdrant_key, \n",
    "    collection_name=\"nwac_current_season_reports\",\n",
    ")"
   ]
  }
 ],
 "metadata": {
  "kernelspec": {
   "display_name": "Python 3",
   "language": "python",
   "name": "python3"
  },
  "language_info": {
   "codemirror_mode": {
    "name": "ipython",
    "version": 3
   },
   "file_extension": ".py",
   "mimetype": "text/x-python",
   "name": "python",
   "nbconvert_exporter": "python",
   "pygments_lexer": "ipython3",
   "version": "3.10.6"
  },
  "orig_nbformat": 4
 },
 "nbformat": 4,
 "nbformat_minor": 2
}
