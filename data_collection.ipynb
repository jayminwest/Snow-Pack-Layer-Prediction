{
 "cells": [
  {
   "attachments": {},
   "cell_type": "markdown",
   "metadata": {},
   "source": [
    "# Collection of Data for Snowpack Layer Prediction and Analysis\n",
    "### Jaymin West\n",
    "\n",
    "### Spring, 2023\n",
    "\n",
    "#### The purpose of this project is to create a model that predicts the current snow conditions in areas based on the weather that that area has seen and predict the avalanche risk of that area based on this. By “snow conditions” I mean the layers that exist within the snow pack such as hard, frozen layers or soft, dry layers. Understanding the layers within a snowpack is essential to predicting avalanche risk of an area. Currently, avalanche risk assessment and snow pack analysis are done entirely by professional avalanche forecasters who go into the field, dig snow pits, analayze the snowpack, and create a risk assessment based on this information. The goal with this project is not to replace these highly educated individuals but instead to attempt to create a tool that may help those interested in snow packs better understand the conditions they may face."
   ]
  },
  {
   "cell_type": "code",
   "execution_count": 1,
   "metadata": {},
   "outputs": [],
   "source": [
    "import importlib, os, utils, urllib\n",
    "from datetime import datetime\n",
    "import matplotlib.pyplot as plt\n",
    "from meteostat import Stations, Daily, Point, Hourly\n",
    "import pandas as pd\n",
    "from sklearn import tree"
   ]
  },
  {
   "attachments": {},
   "cell_type": "markdown",
   "metadata": {},
   "source": [
    "#### Getting Weather Data:"
   ]
  },
  {
   "cell_type": "code",
   "execution_count": 2,
   "metadata": {},
   "outputs": [],
   "source": [
    "# Getting station data:\n",
    "stations = Stations()\n",
    "stations = stations.nearby(47.3923, -121.4001, 32000) # Stations within 32km (~20mi) of Snoqualimine Pass:\n",
    "station = stations.fetch()\n",
    "\n",
    "# Getting Hourly Data for the 2022-2023 season:\n",
    "start = datetime(2022, 10, 1)\n",
    "end = datetime(2023, 3, 31)\n",
    "\n",
    "# Collecting data for every 6 hours from October 1st, 2022 to March 31st, 2023:\n",
    "weather_data = Hourly(station, start=start, end=end)\n",
    "weather_data = weather_data.normalize()\n",
    "weather_data = weather_data.aggregate('1D', spatial=True) # Aggregating data over time and spatialy (averaging all stations' data)\n",
    "weather_data = weather_data.fetch()\n",
    "# Removing empty columns:\n",
    "weather_data = weather_data[['temp', 'dwpt', 'rhum', 'prcp', 'wdir', 'wspd', 'pres', 'coco']]\n",
    "weather_data = weather_data.reset_index()\n",
    "# Writing it to a csv file:\n",
    "weather_data.to_csv('input_data/weather_data/stevens_pass_22-23_data.csv')"
   ]
  },
  {
   "attachments": {},
   "cell_type": "markdown",
   "metadata": {},
   "source": [
    "### Scraping Avalanche Data:"
   ]
  },
  {
   "cell_type": "code",
   "execution_count": 13,
   "metadata": {},
   "outputs": [],
   "source": [
    "# Calling utility function to scrape avalanche data:\n",
    "date_risks = utils.scrape_avalanche_data('https://nwac.us/avalanche-forecast/#/archive', 'Snoqualmie Pass')"
   ]
  },
  {
   "attachments": {},
   "cell_type": "markdown",
   "metadata": {},
   "source": [
    "### Combining Weather and Avalanche Risk Data:"
   ]
  },
  {
   "cell_type": "code",
   "execution_count": 12,
   "metadata": {},
   "outputs": [],
   "source": [
    "# Formatting the date_risks dataframe:\n",
    "date_risks['risk'] = date_risks['risk'].replace({'no rating': -1, 'low': 0, 'moderate': 1, 'considerable': 2, 'high': 3, 'extreme': 4})\n",
    "# Merging the weather data with the avalanche risk data\n",
    "weather_and_risk_df = weather_data.merge(date_risks)\n",
    "# Formatting the time column:\n",
    "weather_and_risk_df['time'] = weather_and_risk_df['time'].apply(lambda x: datetime.strftime(x, '%Y-%m-%d'))\n"
   ]
  },
  {
   "attachments": {},
   "cell_type": "markdown",
   "metadata": {},
   "source": [
    "### Creating a model to predict the current avalanche danger"
   ]
  },
  {
   "cell_type": "code",
   "execution_count": null,
   "metadata": {},
   "outputs": [
    {
     "name": "stdout",
     "output_type": "stream",
     "text": [
      "Decision Tree Score:  0.7835820895522388\n"
     ]
    }
   ],
   "source": [
    "X = weather_and_risk_df[['temp', 'dwpt', 'rhum', 'prcp', 'wdir', 'wspd', 'pres', 'coco']] # Features\n",
    "y = weather_and_risk_df['risk'] # Labels\n",
    "\n",
    "# Making a decision tree with Sklearn:\n",
    "clf = tree.DecisionTreeClassifier()\n",
    "clf = clf.fit(X[:-46], y[:-46])\n",
    "print(\"Decision Tree Score: \", clf.score(X, y))"
   ]
  },
  {
   "attachments": {},
   "cell_type": "markdown",
   "metadata": {},
   "source": [
    "# Snowpilot Data Collection"
   ]
  },
  {
   "attachments": {},
   "cell_type": "markdown",
   "metadata": {},
   "source": [
    "![alternatvie text]('https://snowpilot.org/sites/default/files/snowpit-profiles/layers-54015.png')"
   ]
  },
  {
   "cell_type": "code",
   "execution_count": null,
   "metadata": {},
   "outputs": [
    {
     "data": {
      "text/plain": [
       "[('2023-01-13',\n",
       "    startDepth endDepth hardness1\n",
       "  1        134      105         F\n",
       "  2        105       91        4F\n",
       "  3         91       77        1F\n",
       "  4         77       74        1F\n",
       "  5         74       69        4F\n",
       "  6         69       55        1F\n",
       "  7         55       43        4F\n",
       "  8         43       10        1F\n",
       "  9         10        0        1F),\n",
       " ('2022-12-16',\n",
       "     startDepth endDepth hardness1\n",
       "  1         110       97         F\n",
       "  2          97       96        4F\n",
       "  3          96       86        4F\n",
       "  4          86       85        1F\n",
       "  5          85       75        1F\n",
       "  6          75       49         P\n",
       "  7          49       44         P\n",
       "  8          44       42       1F+\n",
       "  9          42       39         P\n",
       "  10         39       15        1F\n",
       "  11         15       12         P\n",
       "  12         12        0        P-),\n",
       " ('2023-03-19',\n",
       "     startDepth endDepth hardness1\n",
       "  1         252      247        1F\n",
       "  2         247      242         F\n",
       "  3         242      239         P\n",
       "  4         239      236         F\n",
       "  5         236      235         K\n",
       "  6         235      220        1F\n",
       "  7         220      150        1F\n",
       "  8         150      148         P\n",
       "  9         148      142        1F\n",
       "  10        142      132         F\n",
       "  11        132      109        1F\n",
       "  12        109      103        1F\n",
       "  13        103       91        1F\n",
       "  14         91       90         K\n",
       "  15         90       57         P\n",
       "  16         57       37        1F\n",
       "  17         37       27         P\n",
       "  18         27        0        1F),\n",
       " ('2023-02-17',\n",
       "     startDepth endDepth hardness1\n",
       "  1         108       98         F\n",
       "  2          98       94         P\n",
       "  3          94       86        4F\n",
       "  4          86       85         P\n",
       "  5          85       65        4F\n",
       "  6          65       64        P-\n",
       "  7          64       58        4F\n",
       "  8          58       40        1F\n",
       "  9          40       29       1F+\n",
       "  10         29       23         P\n",
       "  11         23        0        1F),\n",
       " ('2023-03-07',\n",
       "     startDepth endDepth hardness1\n",
       "  1         166      155         F\n",
       "  2         155      132        4F\n",
       "  3         132      130         P\n",
       "  4         130       96        4F\n",
       "  5          96       89         P\n",
       "  6          89       84       4F+\n",
       "  7          84       82         P\n",
       "  8          82       71         F\n",
       "  9          71       70        P+\n",
       "  10         70       45         F\n",
       "  11         45       43        4F\n",
       "  12         43        6        1F\n",
       "  13          6        0        1F),\n",
       " ('2023-01-26',\n",
       "    startDepth endDepth hardness1\n",
       "  1         99       83         F\n",
       "  2         83       77         P\n",
       "  3         77       50         F\n",
       "  4         50       29        4F\n",
       "  5         29       27        1F\n",
       "  6         27        0        4F),\n",
       " ('2022-12-22',\n",
       "    startDepth endDepth hardness1\n",
       "  1        170      150         F\n",
       "  2        150      125        4F\n",
       "  3        125       97        1F\n",
       "  4         97       83        4F\n",
       "  5         83       54        1F\n",
       "  6         54       40        1F\n",
       "  7         40        9         P\n",
       "  8          9        0        4F),\n",
       " ('2022-11-27',\n",
       "    startDepth endDepth hardness1\n",
       "  1         70       60         F\n",
       "  2         60       53         F\n",
       "  3         53       45         P\n",
       "  4         45       37        4F\n",
       "  5         37       20        1F\n",
       "  6         20       17        P+\n",
       "  7         17        0        1F),\n",
       " ('2023-01-19',\n",
       "     startDepth endDepth hardness1\n",
       "  1         160      134         F\n",
       "  2         134      116         F\n",
       "  3         116      106        4F\n",
       "  4         106       99        4F\n",
       "  5          99       89        1F\n",
       "  6          89       69         P\n",
       "  7          69       54        P-\n",
       "  8          54       34       1F+\n",
       "  9          34       20         P\n",
       "  10         20       11        P-\n",
       "  11         11        0        1F),\n",
       " ('2023-02-05',\n",
       "    startDepth endDepth hardness1\n",
       "  1        132      130         P\n",
       "  2        130       69        4F\n",
       "  3         69       66        P-\n",
       "  4         66       36        4F\n",
       "  5         36       16         F\n",
       "  6         16       14         P\n",
       "  7         14        0         F),\n",
       " ('2023-01-19',\n",
       "    startDepth endDepth hardness1\n",
       "  1        128      105         F\n",
       "  2        105       87        4F\n",
       "  3         87       76        4F\n",
       "  4         76       64        4F\n",
       "  5         64       56        1F\n",
       "  6         56       38        1F\n",
       "  7         38       20        1F\n",
       "  8         20        0        1F)]"
      ]
     },
     "execution_count": 5,
     "metadata": {},
     "output_type": "execute_result"
    }
   ],
   "source": [
    "importlib.reload(utils)\n",
    "\n",
    "sp_data = []\n",
    "for filename in os.listdir(\"input_data/snowpilot_data\"): \n",
    "    filename = \"input_data/snowpilot_data/\" + filename\n",
    "    timestamp = int(utils.snowpilot_xml_to_dict(filename)['@timestamp'])\n",
    "    timestamp /= 1000 # Converting from milliseconds\n",
    "\n",
    "    date = datetime.fromtimestamp(timestamp).strftime('%Y-%m-%d')\n",
    "\n",
    "    layers = utils.snowpilot_xml_to_dict(filename)['Layer']\n",
    "\n",
    "    layers_dict = {}\n",
    "\n",
    "    for layer in layers:\n",
    "        layers_dict[layer['@layerNumber']] = [layer['@startDepth'], layer['@endDepth'], layer['@hardness1']]\n",
    "\n",
    "    chart_df = pd.DataFrame.from_dict(layers_dict, orient='index', columns=['startDepth', 'endDepth', 'hardness1'])\n",
    "    sp_data.append((date, chart_df))\n",
    "sp_data"
   ]
  },
  {
   "attachments": {},
   "cell_type": "markdown",
   "metadata": {},
   "source": [
    "## Ideas:\n",
    "\n",
    "- Really only need to predict the hardness of the snow layers. Graph can be made from everything else\n",
    "- Snow depth can be retrieved from the Snowpilot Data\n",
    "- Take basically all of the attributes possible from the weather data, use decision tree to find the most influential factors in determinding the layer hardness\n",
    "    - Will need to look at (some) historical data for the best results here\n",
    "- End results does not have to be the same format of the Snowpilot charts\n",
    "    - Could have the layers be color coded"
   ]
  }
 ],
 "metadata": {
  "kernelspec": {
   "display_name": "Python 3",
   "language": "python",
   "name": "python3"
  },
  "language_info": {
   "codemirror_mode": {
    "name": "ipython",
    "version": 3
   },
   "file_extension": ".py",
   "mimetype": "text/x-python",
   "name": "python",
   "nbconvert_exporter": "python",
   "pygments_lexer": "ipython3",
   "version": "3.10.6"
  },
  "orig_nbformat": 4,
  "vscode": {
   "interpreter": {
    "hash": "31f2aee4e71d21fbe5cf8b01ff0e069b9275f58929596ceb00d14d90e3e16cd6"
   }
  }
 },
 "nbformat": 4,
 "nbformat_minor": 2
}
